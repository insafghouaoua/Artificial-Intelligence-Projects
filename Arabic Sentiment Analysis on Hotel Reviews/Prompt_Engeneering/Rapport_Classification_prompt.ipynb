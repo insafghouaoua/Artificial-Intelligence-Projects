{
  "nbformat": 4,
  "nbformat_minor": 0,
  "metadata": {
    "colab": {
      "provenance": []
    },
    "kernelspec": {
      "name": "python3",
      "display_name": "Python 3"
    },
    "language_info": {
      "name": "python"
    }
  },
  "cells": [
    {
      "cell_type": "code",
      "execution_count": null,
      "metadata": {
        "colab": {
          "base_uri": "https://localhost:8080/"
        },
        "id": "_UrfBJd9RIGp",
        "outputId": "bab56ff8-8295-4d03-cad5-69d7f105b778"
      },
      "outputs": [
        {
          "output_type": "stream",
          "name": "stdout",
          "text": [
            "Index(['no', 'Hotel name', 'rating', 'user type', 'room type', 'nights',\n",
            "       'Normalized_Review', 'Sentiment', 'predicted_sentiment'],\n",
            "      dtype='object')\n",
            "              precision    recall  f1-score   support\n",
            "\n",
            "    POSITIVE       1.00      1.00      1.00        18\n",
            "    NEGATIVE       1.00      1.00      1.00        81\n",
            "\n",
            "    accuracy                           1.00        99\n",
            "   macro avg       1.00      1.00      1.00        99\n",
            "weighted avg       1.00      1.00      1.00        99\n",
            "\n"
          ]
        }
      ],
      "source": [
        "import pandas as pd\n",
        "from sklearn.metrics import classification_report\n",
        "\n",
        "file_path = '/content/testgpt.xlsx'\n",
        "df = pd.read_excel(file_path)\n",
        "\n",
        "print(df.columns)\n",
        "\n",
        "\n",
        "actual_sentiment = df['Sentiment']\n",
        "predicted_sentiment = df['predicted_sentiment']\n",
        "\n",
        "actual_sentiment = actual_sentiment.str.upper()\n",
        "predicted_sentiment = predicted_sentiment.str.upper()\n",
        "\n",
        "report = classification_report(actual_sentiment, predicted_sentiment, target_names=['POSITIVE', 'NEGATIVE'])\n",
        "\n",
        "print(report)\n"
      ]
    }
  ]
}