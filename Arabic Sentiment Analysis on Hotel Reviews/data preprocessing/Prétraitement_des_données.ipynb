{
  "nbformat": 4,
  "nbformat_minor": 0,
  "metadata": {
    "colab": {
      "provenance": []
    },
    "kernelspec": {
      "name": "python3",
      "display_name": "Python 3"
    },
    "language_info": {
      "name": "python"
    }
  },
  "cells": [
    {
      "cell_type": "markdown",
      "source": [
        "\n",
        "\n",
        "**1. Chargement et étiquetage des données**\n",
        "\n",
        "\n",
        "\n",
        "\n"
      ],
      "metadata": {
        "id": "oDS3uJJEHbBz"
      }
    },
    {
      "cell_type": "code",
      "execution_count": 2,
      "metadata": {
        "colab": {
          "base_uri": "https://localhost:8080/",
          "height": 0
        },
        "id": "d-ZSNAzOIgAl",
        "outputId": "2c086994-6103-4a06-9875-ba5106bea341"
      },
      "outputs": [
        {
          "output_type": "stream",
          "name": "stdout",
          "text": [
            "   rating                                             review Sentiment\n",
            "0       2                  “ممتاز”. النظافة والطاقم متعاون.   Negative\n",
            "1       5  استثنائي. سهولة إنهاء المعاملة في الاستقبال. ل...  Positive\n",
            "2       5  استثنائي. انصح بأختيار الاسويت و بالاخص غرفه ر...  Positive\n",
            "3       1  “استغرب تقييم الفندق كخمس نجوم”. لا شي. يستحق ...  Negative\n",
            "4       4  جيد. المكان جميل وهاديء. كل شي جيد ونظيف بس كا...  Positive\n"
          ]
        }
      ],
      "source": [
        "import pandas as pd\n",
        "\n",
        "data = pd.read_excel('/content/balanced-reviews.xlsx')\n",
        "\n",
        "# Ajout d'une colonne 'Sentiment' basée sur la note\n",
        "def label_sentiment(rating):\n",
        "    if rating >= 4:\n",
        "        return 'Positive'\n",
        "    elif rating == 3:\n",
        "        return 'Neutral'\n",
        "    else:\n",
        "        return 'Negative'\n",
        "\n",
        "data['Sentiment'] = data['rating'].apply(label_sentiment)\n",
        "\n",
        "# Affichage des données étiquetées\n",
        "print(data[['rating', 'review', 'Sentiment']].head())\n"
      ]
    },
    {
      "cell_type": "markdown",
      "source": [
        "**2. Suppression du texte non-arabe**"
      ],
      "metadata": {
        "id": "fsEuxUSgIGmV"
      }
    },
    {
      "cell_type": "code",
      "source": [
        "import re\n",
        "\n",
        "def remove_non_arabic(text):\n",
        "    arabic_pattern = re.compile(r'[^\\u0600-\\u06FF\\s]')\n",
        "    return arabic_pattern.sub('', text)\n",
        "\n",
        "data['Cleaned_Review'] = data['review'].apply(remove_non_arabic)\n",
        "\n",
        "# Affichage des critiques nettoyées\n",
        "print(data[['review', 'Cleaned_Review']].head())\n"
      ],
      "metadata": {
        "colab": {
          "base_uri": "https://localhost:8080/"
        },
        "id": "Dw82UhCyIEOa",
        "outputId": "070de185-2a5f-414a-85fc-a3b1887feaf1"
      },
      "execution_count": 4,
      "outputs": [
        {
          "output_type": "stream",
          "name": "stdout",
          "text": [
            "                                              review  \\\n",
            "0                  “ممتاز”. النظافة والطاقم متعاون.    \n",
            "1  استثنائي. سهولة إنهاء المعاملة في الاستقبال. ل...   \n",
            "2  استثنائي. انصح بأختيار الاسويت و بالاخص غرفه ر...   \n",
            "3  “استغرب تقييم الفندق كخمس نجوم”. لا شي. يستحق ...   \n",
            "4  جيد. المكان جميل وهاديء. كل شي جيد ونظيف بس كا...   \n",
            "\n",
            "                                      Cleaned_Review  \n",
            "0                      ممتاز النظافة والطاقم متعاون   \n",
            "1   استثنائي سهولة إنهاء المعاملة في الاستقبال لاشيئ  \n",
            "2  استثنائي انصح بأختيار الاسويت و بالاخص غرفه رق...  \n",
            "3   استغرب تقييم الفندق كخمس نجوم لا شي يستحق  نجمه   \n",
            "4  جيد المكان جميل وهاديء كل شي جيد ونظيف بس كان ...  \n"
          ]
        }
      ]
    },
    {
      "cell_type": "markdown",
      "source": [
        "**3. Suppression de la ponctuation et des caractères spéciaux**"
      ],
      "metadata": {
        "id": "tpJ3SScKicRT"
      }
    },
    {
      "cell_type": "code",
      "source": [
        "import string\n",
        "import re\n",
        "\n",
        "def remove_punctuation(text):\n",
        "    arabic_punctuation = ['،', '؛', '؟', '٪', '…', 'ـ', '(', ')', '[', ']', '{', '}', '<', '>']\n",
        "    all_punctuation = string.punctuation + ''.join(arabic_punctuation)\n",
        "\n",
        "    # Supprimer la ponctuation (arabe + générale)\n",
        "    text = text.translate(str.maketrans('', '', all_punctuation))\n",
        "    return text\n",
        "\n",
        "data['Cleaned_Review_No_Punctuation'] = data['Cleaned_Review'].apply(remove_punctuation)\n",
        "\n",
        "# Afficher les résultats\n",
        "print(data[['Cleaned_Review', 'Cleaned_Review_No_Punctuation']].head())\n"
      ],
      "metadata": {
        "colab": {
          "base_uri": "https://localhost:8080/"
        },
        "id": "GCwFUsKniSM9",
        "outputId": "d141a674-8672-4eee-b067-7c74c52bbbce"
      },
      "execution_count": 5,
      "outputs": [
        {
          "output_type": "stream",
          "name": "stdout",
          "text": [
            "                                      Cleaned_Review  \\\n",
            "0                      ممتاز النظافة والطاقم متعاون    \n",
            "1   استثنائي سهولة إنهاء المعاملة في الاستقبال لاشيئ   \n",
            "2  استثنائي انصح بأختيار الاسويت و بالاخص غرفه رق...   \n",
            "3   استغرب تقييم الفندق كخمس نجوم لا شي يستحق  نجمه    \n",
            "4  جيد المكان جميل وهاديء كل شي جيد ونظيف بس كان ...   \n",
            "\n",
            "                       Cleaned_Review_No_Punctuation  \n",
            "0                      ممتاز النظافة والطاقم متعاون   \n",
            "1   استثنائي سهولة إنهاء المعاملة في الاستقبال لاشيئ  \n",
            "2  استثنائي انصح بأختيار الاسويت و بالاخص غرفه رق...  \n",
            "3   استغرب تقييم الفندق كخمس نجوم لا شي يستحق  نجمه   \n",
            "4  جيد المكان جميل وهاديء كل شي جيد ونظيف بس كان ...  \n"
          ]
        }
      ]
    },
    {
      "cell_type": "markdown",
      "source": [
        "**4. La suppression des lettres répétées excessives**"
      ],
      "metadata": {
        "id": "Xx5odQsDjCim"
      }
    },
    {
      "cell_type": "code",
      "source": [
        "import re\n",
        "\n",
        "def remove_repeated_letters(text):\n",
        "    # Remplacer 3 répétitions ou plus par 2\n",
        "    text = re.sub(r'(.)\\1{2,}', r'\\1\\1', text)\n",
        "    return text\n",
        "\n",
        "data['Normalized_No_Repeated_Letters'] = data['Cleaned_Review_No_Punctuation'].apply(remove_repeated_letters)\n",
        "\n",
        "# Afficher les résultats\n",
        "print(data[['Cleaned_Review_No_Punctuation', 'Normalized_No_Repeated_Letters']].head())\n"
      ],
      "metadata": {
        "colab": {
          "base_uri": "https://localhost:8080/"
        },
        "id": "xJJQPoxbjCIZ",
        "outputId": "e0f62c67-8383-4fd0-c77d-8338a820ed07"
      },
      "execution_count": 6,
      "outputs": [
        {
          "output_type": "stream",
          "name": "stdout",
          "text": [
            "                       Cleaned_Review_No_Punctuation  \\\n",
            "0                      ممتاز النظافة والطاقم متعاون    \n",
            "1   استثنائي سهولة إنهاء المعاملة في الاستقبال لاشيئ   \n",
            "2  استثنائي انصح بأختيار الاسويت و بالاخص غرفه رق...   \n",
            "3   استغرب تقييم الفندق كخمس نجوم لا شي يستحق  نجمه    \n",
            "4  جيد المكان جميل وهاديء كل شي جيد ونظيف بس كان ...   \n",
            "\n",
            "                      Normalized_No_Repeated_Letters  \n",
            "0                      ممتاز النظافة والطاقم متعاون   \n",
            "1   استثنائي سهولة إنهاء المعاملة في الاستقبال لاشيئ  \n",
            "2  استثنائي انصح بأختيار الاسويت و بالاخص غرفه رق...  \n",
            "3   استغرب تقييم الفندق كخمس نجوم لا شي يستحق  نجمه   \n",
            "4  جيد المكان جميل وهاديء كل شي جيد ونظيف بس كان ...  \n"
          ]
        }
      ]
    },
    {
      "cell_type": "markdown",
      "source": [
        "**5. Standardisation des mots dialectaux en arabe littéraire**"
      ],
      "metadata": {
        "id": "l21c8ZUYKmNT"
      }
    },
    {
      "cell_type": "code",
      "source": [
        "# Dictionnaire de transformation du dialecte koweïtien vers l'arabe standard\n",
        "dialect_to_standard_dict = {\n",
        "    \"شلون\": \"كيف\",\n",
        "    \"زين\": \"جيد\",\n",
        "    \"شفيك\": \"ما بك\",\n",
        "    \"ليش\": \"لماذا\",\n",
        "    \"وين\": \"أين\",\n",
        "    \"شنو\": \"ماذا\",\n",
        "    \"خوش\": \"ممتاز\",\n",
        "    \"وايد\": \"كثير\",\n",
        "    \"الحين\": \"الآن\",\n",
        "    \"يبي\": \"يريد\",\n",
        "    \"عشان\": \"لأن\",\n",
        "    \"شوف\": \"انظر\",\n",
        "    \"ماكو\": \"لا يوجد\",\n",
        "    \"قاعد\": \"يفعل حالياً\",\n",
        "    \"ماعليه\": \"لا بأس\",\n",
        "    \"إنتي\": \"أنتِ\",\n",
        "    \"إنت\": \"أنت\",\n",
        "    \"أبوي\": \"أبي\",\n",
        "    \"يمّه\": \"أمي\",\n",
        "    \"مالت عليك\": \"عار عليك\",\n",
        "    \"كلش\": \"أبداً\",\n",
        "    \"تيي\": \"تأتي\",\n",
        "    \"هني\": \"هنا\",\n",
        "    \"بره\": \"خارج\",\n",
        "    \"اشفيها\": \"ما بها\",\n",
        "    \"أخيي\": \"يا أخي\",\n",
        "    \"عطيني\": \"أعطني\",\n",
        "    \"يمشي\": \"يسير\",\n",
        "    \"يبيله\": \"يحتاج إلى\",\n",
        "    \"حيل\": \"جداً\",\n",
        "    \"طاحت\": \"سقطت\",\n",
        "    \"إلحق\": \"اسرع\",\n",
        "    \"توني\": \"للتو\",\n",
        "    \"واحد\": \"شخص\",\n",
        "    \"صار\": \"أصبح\",\n",
        "    \"درب\": \"طريق\",\n",
        "    \"ما يصير\": \"لا يمكن\",\n",
        "    \"شال\": \"رفع\",\n",
        "    \"عايش\": \"يعيش\",\n",
        "    \"يلعن\": \"يسب\",\n",
        "    \"يجوف\": \"يرى\"\n",
        "}\n",
        "\n",
        "def dialect_to_standard(text):\n",
        "    for dialect_word, standard_word in dialect_to_standard_dict.items():\n",
        "        text = text.replace(dialect_word, standard_word)\n",
        "    return text\n",
        "\n",
        "data['Standardized_Review'] = data['Normalized_No_Repeated_Letters'].apply(dialect_to_standard)\n",
        "\n",
        "# Afficher les résultats\n",
        "print(data[['Normalized_No_Repeated_Letters', 'Standardized_Review']].head())\n"
      ],
      "metadata": {
        "id": "ZMy-khdkKqsc",
        "outputId": "2ffa9bf9-f9a9-4d3d-a1b2-2ea5d3419992",
        "colab": {
          "base_uri": "https://localhost:8080/"
        }
      },
      "execution_count": 7,
      "outputs": [
        {
          "output_type": "stream",
          "name": "stdout",
          "text": [
            "                      Normalized_No_Repeated_Letters  \\\n",
            "0                      ممتاز النظافة والطاقم متعاون    \n",
            "1   استثنائي سهولة إنهاء المعاملة في الاستقبال لاشيئ   \n",
            "2  استثنائي انصح بأختيار الاسويت و بالاخص غرفه رق...   \n",
            "3   استغرب تقييم الفندق كخمس نجوم لا شي يستحق  نجمه    \n",
            "4  جيد المكان جميل وهاديء كل شي جيد ونظيف بس كان ...   \n",
            "\n",
            "                                 Standardized_Review  \n",
            "0                      ممتاز النظافة والطاقم متعاون   \n",
            "1   استثنائي سهولة إنهاء المعاملة في الاستقبال لاشيئ  \n",
            "2  استثنائي انصح بأختيار الاسويت و بالاخص غرفه رق...  \n",
            "3   استغرب تقييم الفندق كخمس نجوم لا شي يستحق  نجمه   \n",
            "4  جيد المكان جميل وهاديء كل شي جيد ونظيف بس كان ...  \n"
          ]
        }
      ]
    },
    {
      "cell_type": "markdown",
      "source": [
        "**6. Normalisation du texte arabe**"
      ],
      "metadata": {
        "id": "BZ4zGrUbIMZb"
      }
    },
    {
      "cell_type": "code",
      "source": [
        "def normalize_arabic(text):\n",
        "    text = text.replace('آ', 'ا')  # Remplacer 'آ' par 'ا'\n",
        "    text = text.replace('ٱ', 'ا')  # Remplacer 'ٱ' par 'ا'\n",
        "    text = text.replace('َ', '')   # Supprimer 'fatha'\n",
        "    text = text.replace('ً', '')   # 'tanwin fatha'\n",
        "    text = text.replace('ُ', '')   # 'damma'\n",
        "    text = text.replace('ٌ', '')   # 'tanwin damma'\n",
        "    text = text.replace('ِ', '')   # 'kasra'\n",
        "    text = text.replace('ٍ', '')   # 'tanwin kasra'\n",
        "    text = text.replace('ْ', '')   # 'sukun'\n",
        "    text = text.replace('ّ', '')   # 'shadda'\n",
        "    return text\n",
        "\n",
        "data['Normalized_Review'] = data['Standardized_Review'].apply(normalize_arabic)\n",
        "\n",
        "# Afficher les résultats\n",
        "print(data[['Standardized_Review', 'Normalized_Review']].head())\n"
      ],
      "metadata": {
        "colab": {
          "base_uri": "https://localhost:8080/"
        },
        "id": "hEVXimf2IKge",
        "outputId": "22fc297f-5688-46ab-a67c-c79f019d6d6b"
      },
      "execution_count": 9,
      "outputs": [
        {
          "output_type": "stream",
          "name": "stdout",
          "text": [
            "                                 Standardized_Review  \\\n",
            "0                      ممتاز النظافة والطاقم متعاون    \n",
            "1   استثنائي سهولة إنهاء المعاملة في الاستقبال لاشيئ   \n",
            "2  استثنائي انصح بأختيار الاسويت و بالاخص غرفه رق...   \n",
            "3   استغرب تقييم الفندق كخمس نجوم لا شي يستحق  نجمه    \n",
            "4  جيد المكان جميل وهاديء كل شي جيد ونظيف بس كان ...   \n",
            "\n",
            "                                   Normalized_Review  \n",
            "0                      ممتاز النظافة والطاقم متعاون   \n",
            "1   استثنائي سهولة إنهاء المعاملة في الاستقبال لاشيئ  \n",
            "2  استثنائي انصح بأختيار الاسويت و بالاخص غرفه رق...  \n",
            "3   استغرب تقييم الفندق كخمس نجوم لا شي يستحق  نجمه   \n",
            "4  جيد المكان جميل وهاديء كل شي جيد ونظيف بس كان ...  \n"
          ]
        }
      ]
    },
    {
      "cell_type": "markdown",
      "source": [
        "**7. Sauvegarde les données prétraitées dans un fichier Excel**"
      ],
      "metadata": {
        "id": "_yXGgbFkJDE8"
      }
    },
    {
      "cell_type": "code",
      "source": [
        "import pandas as pd\n",
        "from google.colab import files\n",
        "\n",
        "output_data = data[['no', 'Hotel name', 'rating', 'user type', 'room type', 'nights', 'Normalized_Review', 'Sentiment']]\n",
        "\n",
        "print(output_data.head())\n",
        "\n",
        "output_filename = '/content/hotel_reviews_preprocessed.xlsx'\n",
        "output_data.to_excel(output_filename, index=False)\n",
        "\n",
        "# Télécharger le fichier\n",
        "files.download(output_filename)\n",
        "\n",
        "print(\"Le fichier Excel a été sauvegardé sous le nom 'hotel_reviews_preprocessed.xlsx'.\")\n"
      ],
      "metadata": {
        "colab": {
          "base_uri": "https://localhost:8080/",
          "height": 381
        },
        "id": "c8Zpb1DJJJzg",
        "outputId": "b900ad4e-bd34-4fde-ebc6-93a16f1709ba"
      },
      "execution_count": 11,
      "outputs": [
        {
          "output_type": "stream",
          "name": "stdout",
          "text": [
            "   no Hotel name  rating    user type                   room type  \\\n",
            "0   2    فندق 72       2  مسافر منفرد  غرفة ديلوكس مزدوجة أو توأم   \n",
            "1   3    فندق 72       5          زوج  غرفة ديلوكس مزدوجة أو توأم   \n",
            "2  16    فندق 72       5          زوج                           -   \n",
            "3  20    فندق 72       1          زوج          غرفة قياسية مزدوجة   \n",
            "4  23    فندق 72       4          زوج  غرفة ديلوكس مزدوجة أو توأم   \n",
            "\n",
            "            nights                                  Normalized_Review  \\\n",
            "0  أقمت ليلة واحدة                      ممتاز النظافة والطاقم متعاون    \n",
            "1  أقمت ليلة واحدة   استثنائي سهولة إنهاء المعاملة في الاستقبال لاشيئ   \n",
            "2      أقمت ليلتين  استثنائي انصح بأختيار الاسويت و بالاخص غرفه رق...   \n",
            "3  أقمت ليلة واحدة   استغرب تقييم الفندق كخمس نجوم لا شي يستحق  نجمه    \n",
            "4      أقمت ليلتين  جيد المكان جميل وهاديء كل شي جيد ونظيف بس كان ...   \n",
            "\n",
            "  Sentiment  \n",
            "0  Negative  \n",
            "1  Positive  \n",
            "2  Positive  \n",
            "3  Negative  \n",
            "4  Positive  \n"
          ]
        },
        {
          "output_type": "display_data",
          "data": {
            "text/plain": [
              "<IPython.core.display.Javascript object>"
            ],
            "application/javascript": [
              "\n",
              "    async function download(id, filename, size) {\n",
              "      if (!google.colab.kernel.accessAllowed) {\n",
              "        return;\n",
              "      }\n",
              "      const div = document.createElement('div');\n",
              "      const label = document.createElement('label');\n",
              "      label.textContent = `Downloading \"${filename}\": `;\n",
              "      div.appendChild(label);\n",
              "      const progress = document.createElement('progress');\n",
              "      progress.max = size;\n",
              "      div.appendChild(progress);\n",
              "      document.body.appendChild(div);\n",
              "\n",
              "      const buffers = [];\n",
              "      let downloaded = 0;\n",
              "\n",
              "      const channel = await google.colab.kernel.comms.open(id);\n",
              "      // Send a message to notify the kernel that we're ready.\n",
              "      channel.send({})\n",
              "\n",
              "      for await (const message of channel.messages) {\n",
              "        // Send a message to notify the kernel that we're ready.\n",
              "        channel.send({})\n",
              "        if (message.buffers) {\n",
              "          for (const buffer of message.buffers) {\n",
              "            buffers.push(buffer);\n",
              "            downloaded += buffer.byteLength;\n",
              "            progress.value = downloaded;\n",
              "          }\n",
              "        }\n",
              "      }\n",
              "      const blob = new Blob(buffers, {type: 'application/binary'});\n",
              "      const a = document.createElement('a');\n",
              "      a.href = window.URL.createObjectURL(blob);\n",
              "      a.download = filename;\n",
              "      div.appendChild(a);\n",
              "      a.click();\n",
              "      div.remove();\n",
              "    }\n",
              "  "
            ]
          },
          "metadata": {}
        },
        {
          "output_type": "display_data",
          "data": {
            "text/plain": [
              "<IPython.core.display.Javascript object>"
            ],
            "application/javascript": [
              "download(\"download_62b04b82-cd39-47b2-9115-441a27bf0b71\", \"hotel_reviews_preprocessed.xlsx\", 1417544)"
            ]
          },
          "metadata": {}
        },
        {
          "output_type": "stream",
          "name": "stdout",
          "text": [
            "Le fichier Excel a été sauvegardé sous le nom 'hotel_reviews_preprocessed.xlsx'.\n"
          ]
        }
      ]
    }
  ]
}